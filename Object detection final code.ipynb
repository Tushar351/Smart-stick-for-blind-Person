{
 "cells": [
  {
   "cell_type": "code",
   "execution_count": null,
   "id": "7ed4eaff",
   "metadata": {},
   "outputs": [],
   "source": [
    "import cv2\n",
    "import numpy as np\n",
    "from gtts import gTTS\n",
    "import pygame\n",
    "import os"
   ]
  },
  {
   "cell_type": "code",
   "execution_count": null,
   "id": "135a9980",
   "metadata": {},
   "outputs": [],
   "source": [
    "# Load a pre-trained Haar cascade classifier for object detection\n",
    "face_cascade = cv2.CascadeClassifier('haarcascade_frontalface_default.xml')\n",
    "\n",
    "# Initialize the Pygame library\n",
    "pygame.init()\n",
    "\n",
    "# Start capturing video from a camera\n",
    "cap = cv2.VideoCapture(0)"
   ]
  },
  {
   "cell_type": "code",
   "execution_count": null,
   "id": "b746df1a",
   "metadata": {},
   "outputs": [],
   "source": [
    "# Define a function to generate and play audio cues\n",
    "def play_audio_cue(cue):\n",
    "    tts = gTTS(cue, lang='en')\n",
    "    tts.save('cue.mp3')\n",
    "    pygame.mixer.music.load(\"cue.mp3\")\n",
    "    pygame.mixer.music.play()\n",
    "    while pygame.mixer.music.get_busy() == True:\n",
    "        continue"
   ]
  },
  {
   "cell_type": "code",
   "execution_count": null,
   "id": "253e3da0",
   "metadata": {},
   "outputs": [],
   "source": [
    "def navigate(faces, frame_width, frame_height):\n",
    "    # Check if there are any faces in the frame\n",
    "    if len(faces) > 0:\n",
    "        # Find the largest face in the frame\n",
    "        largest_face = max(faces, key=lambda x: x[2] * x[3])\n",
    "        (x, y, w, h) = largest_face\n",
    "\n",
    "        # Check if the face is in the left or right half of the frame\n",
    "        if x + w / 2 < frame_width / 3:\n",
    "            play_audio_cue(\"Go left\")\n",
    "            print(\"Left\")\n",
    "        elif x + w / 2 > 2 * frame_width / 3:\n",
    "            play_audio_cue(\"Go right\")\n",
    "            print(\"Right\")\n",
    "        else:\n",
    "            play_audio_cue(\"Go straight\")\n",
    "            print(\"Go straight\")\n",
    "    else:\n",
    "        play_audio_cue(\"Go straight\")\n",
    "        print(\"Go straight\")"
   ]
  },
  {
   "cell_type": "code",
   "execution_count": null,
   "id": "12690c8b",
   "metadata": {},
   "outputs": [],
   "source": [
    "while True:\n",
    "    # Read a frame from the video stream\n",
    "    ret, frame = cap.read()\n",
    "    \n",
    "    # Convert the frame to grayscale\n",
    "    gray = cv2.cvtColor(frame, cv2.COLOR_BGR2GRAY)\n",
    "    \n",
    "    # Detect faces in the grayscale frame\n",
    "    faces = face_cascade.detectMultiScale(gray, scaleFactor=1.1, minNeighbors=5, minSize=(30, 30))\n",
    "    \n",
    "    # Draw a rectangle around the faces\n",
    "    for (x, y, w, h) in faces:\n",
    "        cv2.rectangle(frame, (x,y), (x+w, y+h), (0,255,0), 2)\n",
    "    \n",
    "    # Navigate according to the position of the largest face in the frame\n",
    "    navigate(faces, frame.shape[1], frame.shape[0])\n",
    "    \n",
    "    # Show the resulting frame\n",
    "    cv2.imshow('frame', frame)\n",
    "    \n",
    "    # Check if the user has pressed the 'q' key to quit the program\n",
    "    if cv2.waitKey(1) & 0xFF == ord('q'):\n",
    "        break"
   ]
  },
  {
   "cell_type": "code",
   "execution_count": null,
   "id": "19960e1e",
   "metadata": {},
   "outputs": [],
   "source": [
    "# Release the video capture and close all windows\n",
    "cap.release()\n",
    "cv2.destroyAllWindows()"
   ]
  }
 ],
 "metadata": {
  "kernelspec": {
   "display_name": "Python 3 (ipykernel)",
   "language": "python",
   "name": "python3"
  },
  "language_info": {
   "codemirror_mode": {
    "name": "ipython",
    "version": 3
   },
   "file_extension": ".py",
   "mimetype": "text/x-python",
   "name": "python",
   "nbconvert_exporter": "python",
   "pygments_lexer": "ipython3",
   "version": "3.9.13"
  }
 },
 "nbformat": 4,
 "nbformat_minor": 5
}
