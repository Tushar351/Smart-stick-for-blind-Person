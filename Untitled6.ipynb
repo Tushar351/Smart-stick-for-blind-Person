{
 "cells": [
  {
   "cell_type": "code",
   "execution_count": null,
   "id": "ae606944",
   "metadata": {},
   "outputs": [],
   "source": [
    "import cv2\n",
    "import numpy as np\n",
    "import pygame\n",
    "import os\n",
    "import time"
   ]
  },
  {
   "cell_type": "code",
   "execution_count": null,
   "id": "dfa0bad2",
   "metadata": {},
   "outputs": [],
   "source": [
    "# Load the YOLOv3 model\n",
    "net = cv2.dnn.readNet(\"yolov3.weights\", \"yolov3.cfg\")\n",
    "classes = []\n",
    "with open(\"coco.names\", \"r\") as f:\n",
    "    classes = [line.strip() for line in f.readlines()]\n",
    "layer_names = net.getLayerNames()\n",
    "output_layers = [layer_names[i[0] - 1] for i in net.getUnconnectedOutLayers()]\n"
   ]
  },
  {
   "cell_type": "code",
   "execution_count": null,
   "id": "c3b4641d",
   "metadata": {},
   "outputs": [],
   "source": [
    "# Initialize the Pygame library\n",
    "pygame.init()\n",
    "\n",
    "# Start capturing video from a camera\n",
    "cap = cv2.VideoCapture(0)"
   ]
  },
  {
   "cell_type": "code",
   "execution_count": null,
   "id": "5e0b133e",
   "metadata": {},
   "outputs": [],
   "source": [
    "# Define a function to generate and play audio cues\n",
    "def play_audio_cue(cue):\n",
    "    tts = gTTS(cue, lang='en')\n",
    "    tts.save('cue.mp3')\n",
    "    pygame.mixer.music.load(\"cue.mp3\")\n",
    "    pygame.mixer.music.play()\n",
    "    while pygame.mixer.music.get_busy() == True:\n",
    "        continue"
   ]
  },
  {
   "cell_type": "code",
   "execution_count": null,
   "id": "7f5334da",
   "metadata": {},
   "outputs": [],
   "source": [
    "def give_navigation_instructions(frame, faces):\n",
    "    if len(faces) == 0:\n",
    "        play_audio_cue(\"No one in front of you. Please continue straight ahead.\")\n",
    "    elif len(faces) == 1:\n",
    "        x, y, w, h = faces[0]\n",
    "        frame_width = frame.shape[1]\n",
    "        if x < frame_width / 3:\n",
    "            play_audio_cue(\"Person on the left. Please move slightly to the right.\")\n",
    "        elif x > 2 * frame_width / 3:\n",
    "            play_audio_cue(\"Person on the right. Please move slightly to the left.\")\n",
    "        else:\n",
    "            play_audio_cue(\"Person in the middle. Please walk around the person.\")\n",
    "    else:\n",
    "        play_audio_cue(\"Multiple people in front of you. Please be cautious and walk around them.\")\n"
   ]
  },
  {
   "cell_type": "code",
   "execution_count": null,
   "id": "0e86b5a3",
   "metadata": {},
   "outputs": [],
   "source": [
    "while True:\n",
    "    ret, frame = cap.read()\n",
    "    (h, w) = frame.shape[:2]\n",
    "\n",
    "    blob = cv2.dnn.blobFromImage(frame, 0.007843, (300, 300), 127.5)\n",
    "    net.setInput(blob)\n",
    "    detections = net.forward()\n",
    "\n",
    "    bboxes = []\n",
    "    for i in np.arange(0, detections.shape[2]):\n",
    "        confidence = detections[0, 0, i, 2]\n",
    "        if confidence > 0.5:\n",
    "            idx = int(detections[0, 0, i, 1])\n",
    "            if idx == 15: # The class id for person\n",
    "                box = detections[0, 0, i, 3:7] * np.array([w, h, w, h])\n",
    "                (startX, startY, endX, endY) = box.astype(\"int\")\n",
    "                bboxes.append((startX, startY, endX-startX, endY-startY))\n",
    "                cv2.rectangle(frame, (startX, startY), (endX, endY), (0, 255, 0), 2)\n",
    "\n",
    "    give_navigation_instructions(bboxes)\n",
    "\n",
    "    cv2.imshow(\"Output\", frame)\n",
    "    if cv2.waitKey(1) & 0xFF == ord(\"q\"):\n",
    "        break"
   ]
  },
  {
   "cell_type": "code",
   "execution_count": null,
   "id": "e7b176c7",
   "metadata": {},
   "outputs": [],
   "source": [
    "cap.release()\n",
    "cv2.destroyAllWindows()"
   ]
  }
 ],
 "metadata": {
  "kernelspec": {
   "display_name": "Python 3 (ipykernel)",
   "language": "python",
   "name": "python3"
  },
  "language_info": {
   "codemirror_mode": {
    "name": "ipython",
    "version": 3
   },
   "file_extension": ".py",
   "mimetype": "text/x-python",
   "name": "python",
   "nbconvert_exporter": "python",
   "pygments_lexer": "ipython3",
   "version": "3.9.13"
  }
 },
 "nbformat": 4,
 "nbformat_minor": 5
}
