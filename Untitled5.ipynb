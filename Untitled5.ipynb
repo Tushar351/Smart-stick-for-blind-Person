{
 "cells": [
  {
   "cell_type": "code",
   "execution_count": 1,
   "id": "87265f76",
   "metadata": {},
   "outputs": [],
   "source": [
    "import cv2\n",
    "import pyttsx3"
   ]
  },
  {
   "cell_type": "code",
   "execution_count": 2,
   "id": "76873078",
   "metadata": {},
   "outputs": [],
   "source": [
    "face_cascade = cv2.CascadeClassifier('haarcascade_frontalface_default.xml')\n",
    "cap = cv2.VideoCapture(0)"
   ]
  },
  {
   "cell_type": "code",
   "execution_count": 3,
   "id": "ae1d3415",
   "metadata": {},
   "outputs": [],
   "source": [
    "engine = pyttsx3.init()\n",
    "engine.setProperty('rate', 160)  # Speed percent (can go over 100)\n",
    "engine.setProperty('volume', 0.9)\n"
   ]
  },
  {
   "cell_type": "code",
   "execution_count": 4,
   "id": "3bd19982",
   "metadata": {},
   "outputs": [],
   "source": [
    "def play_audio_cue(cue):\n",
    "    engine.say(cue)\n",
    "    engine.runAndWait()\n"
   ]
  },
  {
   "cell_type": "code",
   "execution_count": 5,
   "id": "d7bd138a",
   "metadata": {},
   "outputs": [],
   "source": [
    "def give_navigation_instructions(faces, frame_width):\n",
    "    if len(faces) == 0:\n",
    "        play_audio_cue(\"No one in front of you. Please continue straight ahead.\")\n",
    "    elif len(faces) == 1:\n",
    "        x, y, w, h = faces[0]\n",
    "        if x < frame_width / 3:\n",
    "            play_audio_cue(\"Person on the left. Please move slightly to the right.\")\n",
    "        elif x > 2 * frame_width / 3:\n",
    "            play_audio_cue(\"Person on the right. Please move slightly to the left.\")\n",
    "        else:\n",
    "            play_audio_cue(\"Person in the middle. Please walk around the person.\")\n",
    "    else:\n",
    "        play_audio_cue(\"Multiple people in front of you. Please be cautious and walk around them.\")"
   ]
  },
  {
   "cell_type": "code",
   "execution_count": null,
   "id": "f18709cc",
   "metadata": {},
   "outputs": [],
   "source": [
    "while True:\n",
    "    ret, frame = cap.read()\n",
    "    gray = cv2.cvtColor(frame, cv2.COLOR_BGR2GRAY)\n",
    "    faces = face_cascade.detectMultiScale(gray, scaleFactor=1.1, minNeighbors=5, minSize=(30, 30))\n",
    "\n",
    "    for (x, y, w, h) in faces:\n",
    "        cv2.rectangle(frame, (x,y), (x+w, y+h), (0,255,0), 2)\n",
    "        \n",
    "    give_navigation_instructions(faces, frame.shape[1])\n",
    "        \n",
    "    cv2.imshow('frame', frame)\n",
    "    if cv2.waitKey(1) & 0xFF == ord('q'):\n",
    "        break\n",
    "    cv2.waitKey(33) # Delay of 33 milliseconds"
   ]
  },
  {
   "cell_type": "code",
   "execution_count": null,
   "id": "371bd32c",
   "metadata": {},
   "outputs": [],
   "source": [
    "cap.release()\n",
    "cv2.destroyAllWindows()"
   ]
  }
 ],
 "metadata": {
  "kernelspec": {
   "display_name": "Python 3 (ipykernel)",
   "language": "python",
   "name": "python3"
  },
  "language_info": {
   "codemirror_mode": {
    "name": "ipython",
    "version": 3
   },
   "file_extension": ".py",
   "mimetype": "text/x-python",
   "name": "python",
   "nbconvert_exporter": "python",
   "pygments_lexer": "ipython3",
   "version": "3.9.13"
  }
 },
 "nbformat": 4,
 "nbformat_minor": 5
}
